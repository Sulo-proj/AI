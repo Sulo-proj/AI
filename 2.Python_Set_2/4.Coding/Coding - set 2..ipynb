{
 "cells": [
  {
   "cell_type": "code",
   "execution_count": 3,
   "id": "aba1475d",
   "metadata": {},
   "outputs": [
    {
     "name": "stdout",
     "output_type": "stream",
     "text": [
      "aidnI evoL I\n"
     ]
    }
   ],
   "source": [
    "# 1.Write a Python program to find the reverse of a string. Expected Output (for input \"hello\"):\n",
    "# olleh\n",
    "\n",
    "def reverse_word(word):\n",
    "    reve_word = word[::-1]\n",
    "    print(reve_word)\n",
    "\n",
    "reverse_word('I Love India')\n"
   ]
  },
  {
   "cell_type": "code",
   "execution_count": 4,
   "id": "5b1ec143",
   "metadata": {},
   "outputs": [
    {
     "name": "stdout",
     "output_type": "stream",
     "text": [
      "0\n",
      "1\n",
      "1\n",
      "2\n",
      "3\n",
      "5\n",
      "8\n",
      "13\n",
      "21\n",
      "34\n"
     ]
    }
   ],
   "source": [
    "# 2.Write a Python program to generate the Fibonacci sequence up to 10 terms.\n",
    "# Expected Output:\n",
    "# 0 1 1 2 3 5 8 13 21 34\n",
    "\n",
    "print(0)\n",
    "print(1)\n",
    "prev1=0\n",
    "prev2=1\n",
    "\n",
    "for i in range(0, 8):\n",
    "    next = prev1 + prev2\n",
    "    print(next)\n",
    "    prev1 = prev2\n",
    "    prev2 = next\n",
    "    \n",
    "\n",
    "\n",
    "\n"
   ]
  },
  {
   "cell_type": "code",
   "execution_count": 26,
   "id": "c656f04a",
   "metadata": {},
   "outputs": [
    {
     "name": "stdout",
     "output_type": "stream",
     "text": [
      "madam is a palindrome\n"
     ]
    }
   ],
   "source": [
    "# 3.Write a Python function to check if a given string is a palindrome.\n",
    "# Expected Output (for input \"madam\"):\n",
    "\n",
    "word = 'madam'\n",
    "reve_word = word[::-1]\n",
    "\n",
    "if reve_word == word:\n",
    "    print(word , 'is a palindrome')\n",
    "else:\n",
    "    print(word, 'is not a palindrome')\n",
    "    \n",
    "\n"
   ]
  },
  {
   "cell_type": "code",
   "execution_count": 22,
   "id": "cd7b0a78",
   "metadata": {},
   "outputs": [
    {
     "name": "stdout",
     "output_type": "stream",
     "text": [
      "Number of vowels: 5\n"
     ]
    }
   ],
   "source": [
    "\n",
    "\n",
    "# 4.Write a Python program to count the number of vowels in a given string. \n",
    "# Expected Output (for input \"education\"):\n",
    "\n",
    "# Number of vowels: 5\n",
    "    \n",
    "vowels = ['a','e','i','o','u']\n",
    "word = 'Education'\n",
    "count = 0\n",
    "\n",
    "for i in word.lower():\n",
    "    if i in vowels:\n",
    "        count += 1\n",
    "    else:\n",
    "        continue\n",
    "\n",
    "print('Number of vowels:', count)\n",
    "    "
   ]
  },
  {
   "cell_type": "code",
   "execution_count": 16,
   "id": "bdbb9b19",
   "metadata": {},
   "outputs": [
    {
     "name": "stdout",
     "output_type": "stream",
     "text": [
      "[1, 2, 3, 4, 5]\n"
     ]
    }
   ],
   "source": [
    "# 5.Write a Python program to remove duplicates from a list.\n",
    "# Expected Output (for input [1, 2, 2, 3, 4, 4, 5]):\n",
    "\n",
    "#  [1, 2, 3, 4, 5]\n",
    "\n",
    "lists = [1,2,2,3,4,4,5]\n",
    "newlist = []\n",
    "for i in lists:\n",
    "    if i in newlist:\n",
    "        continue\n",
    "    else:\n",
    "        newlist.append(i)\n",
    "\n",
    "print(newlist)\n"
   ]
  }
 ],
 "metadata": {
  "kernelspec": {
   "display_name": "base",
   "language": "python",
   "name": "python3"
  },
  "language_info": {
   "codemirror_mode": {
    "name": "ipython",
    "version": 3
   },
   "file_extension": ".py",
   "mimetype": "text/x-python",
   "name": "python",
   "nbconvert_exporter": "python",
   "pygments_lexer": "ipython3",
   "version": "3.10.16"
  }
 },
 "nbformat": 4,
 "nbformat_minor": 5
}
