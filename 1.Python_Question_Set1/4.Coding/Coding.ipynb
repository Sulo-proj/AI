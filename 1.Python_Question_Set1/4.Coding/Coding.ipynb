{
 "cells": [
  {
   "cell_type": "code",
   "execution_count": null,
   "id": "5fd5c475",
   "metadata": {},
   "outputs": [
    {
     "name": "stdout",
     "output_type": "stream",
     "text": [
      "1\n",
      "2\n",
      "3\n",
      "4\n",
      "5\n"
     ]
    }
   ],
   "source": [
    "# 1.Write a Python program that prints numbers from 1 to 5.\n",
    "# Expected Output:\n",
    "# 1 2 3 4 5\n",
    "for i in range(1,6):\n",
    "    print(i)\n"
   ]
  },
  {
   "cell_type": "code",
   "execution_count": 5,
   "id": "3c8bc472",
   "metadata": {},
   "outputs": [
    {
     "name": "stdout",
     "output_type": "stream",
     "text": [
      "2\n",
      "4\n",
      "6\n",
      "8\n",
      "10\n"
     ]
    }
   ],
   "source": [
    "# 2.Write a Python program to print the first 5 even numbers. Expected Output:\n",
    "# 2 4 6 8 10\n",
    "\n",
    "for i in range(2, 11, 2):\n",
    "    print(i)\n"
   ]
  },
  {
   "cell_type": "code",
   "execution_count": null,
   "id": "5e7af211",
   "metadata": {},
   "outputs": [
    {
     "name": "stdout",
     "output_type": "stream",
     "text": [
      "55\n"
     ]
    }
   ],
   "source": [
    "# 3.Write a Python program to print the sum of numbers from 1 to 10. \n",
    "# Expected Output:55\n",
    "sum = 0\n",
    "for i in range(1,11):\n",
    "    sum = sum + i\n",
    "\n",
    "print(sum)\n"
   ]
  },
  {
   "cell_type": "code",
   "execution_count": 22,
   "id": "ac09aa1a",
   "metadata": {},
   "outputs": [
    {
     "name": "stdout",
     "output_type": "stream",
     "text": [
      "120\n"
     ]
    }
   ],
   "source": [
    "# 4.Write a Python function to find the factorial of 5. Expected Output:\n",
    "# 120\n",
    "def factorial(num):\n",
    "    fact = 1\n",
    "    for i in range(num,0,-1):\n",
    "        fact = fact * i\n",
    "\n",
    "    print(fact)\n",
    "\n",
    "factorial(5)\n"
   ]
  },
  {
   "cell_type": "code",
   "execution_count": 80,
   "id": "8ab9fc8a",
   "metadata": {},
   "outputs": [
    {
     "name": "stdout",
     "output_type": "stream",
     "text": [
      "18 is Not a Prime\n"
     ]
    }
   ],
   "source": [
    "# 5.Write a Python program to check if a number is prime. Expected Output (for input 7):\n",
    "# 7 is a prime number\n",
    "\n",
    "# If the number is less than 2, it is not prime.\n",
    "# Check for divisibility by any integer from 2 up to the square root of the number. If any of these integers divide the number evenly, it is not prime.\n",
    "# If no divisors are found in the above range, the number is prime.\n",
    "\n",
    "def prime(num):\n",
    "    flag = False\n",
    "    if num<2:\n",
    "        flag = True\n",
    "\n",
    "    for i in range(2, int(num**0.5)+1):\n",
    "        if num%i == 0:\n",
    "            flag = True\n",
    "\n",
    "    return flag\n",
    "\n",
    "# Lets call the function\n",
    "\n",
    "num = int(input('Enter a number'))\n",
    "\n",
    "if prime(num):\n",
    "    print(num,'is Not a Prime')\n",
    "else:\n",
    "    print(num,'is a Prime')\n"
   ]
  }
 ],
 "metadata": {
  "kernelspec": {
   "display_name": "base",
   "language": "python",
   "name": "python3"
  },
  "language_info": {
   "codemirror_mode": {
    "name": "ipython",
    "version": 3
   },
   "file_extension": ".py",
   "mimetype": "text/x-python",
   "name": "python",
   "nbconvert_exporter": "python",
   "pygments_lexer": "ipython3",
   "version": "3.10.16"
  }
 },
 "nbformat": 4,
 "nbformat_minor": 5
}
