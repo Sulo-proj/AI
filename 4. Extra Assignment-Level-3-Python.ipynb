{
 "cells": [
  {
   "cell_type": "code",
   "execution_count": null,
   "id": "bfb897a5",
   "metadata": {},
   "outputs": [
    {
     "name": "stdout",
     "output_type": "stream",
     "text": [
      "Value =  10\n",
      "Correct\n"
     ]
    }
   ],
   "source": [
    "# print 'CORRECT' if i == 10\n",
    "val = int(input('Value ='))\n",
    "if val == 10:\n",
    "    print('Correct')\n",
    "else:\n",
    "    print('Incorrect')\n"
   ]
  },
  {
   "cell_type": "code",
   "execution_count": null,
   "id": "7f9d065d",
   "metadata": {},
   "outputs": [
    {
     "name": "stdout",
     "output_type": "stream",
     "text": [
      "Enter the Password: HOPE@123\n",
      "Your password is correct\n"
     ]
    }
   ],
   "source": [
    "# Check the password, using if and else\n",
    "pwd = input('Enter the Password:')\n",
    "if pwd == 'HOPE@123':\n",
    "    print('Your password is correct')\n",
    "else:\n",
    "        print('Your password is wrong')\n"
   ]
  },
  {
   "cell_type": "code",
   "execution_count": null,
   "id": "da398089",
   "metadata": {},
   "outputs": [
    {
     "name": "stdout",
     "output_type": "stream",
     "text": [
      "Enter the age: 20\n",
      "Adult\n"
     ]
    }
   ],
   "source": [
    "# Catagory the people by their age like children, adult, citizen, senior citizen...\n",
    "age = int(input('Enter the age:'))\n",
    "if(age<18):\n",
    "    print(\"Children\")\n",
    "elif(age<35):\n",
    "    print(\"Adult\")\n",
    "elif(age<59):\n",
    "    print(\"Citizen\")\n",
    "else:\n",
    "    print(\"Senior Citizen\")\n",
    "\n"
   ]
  },
  {
   "cell_type": "code",
   "execution_count": null,
   "id": "10834254",
   "metadata": {},
   "outputs": [
    {
     "name": "stdout",
     "output_type": "stream",
     "text": [
      "Enter any number:  -20\n",
      "No is negative\n"
     ]
    }
   ],
   "source": [
    "# Find whether given number is positive or negative\n",
    "\n",
    "num = int(input('Enter any number: '))\n",
    "if num >0:\n",
    "    print('No is positive')\n",
    "else:\n",
    "    print('No is negative')\n"
   ]
  },
  {
   "cell_type": "code",
   "execution_count": null,
   "id": "87c45a4b",
   "metadata": {},
   "outputs": [
    {
     "name": "stdout",
     "output_type": "stream",
     "text": [
      "Enter a number to check : 22\n",
      "The number is not divisible by 5\n"
     ]
    }
   ],
   "source": [
    "# Check whether the given number is divisible by 5\n",
    "\n",
    "num = int(input('Enter a number to check :'))\n",
    "if num%5 == 0:\n",
    "    print('The number is divisible by 5')\n",
    "else:\n",
    "    print('The number is not divisible by 5')\n"
   ]
  }
 ],
 "metadata": {
  "kernelspec": {
   "display_name": "base",
   "language": "python",
   "name": "python3"
  },
  "language_info": {
   "codemirror_mode": {
    "name": "ipython",
    "version": 3
   },
   "file_extension": ".py",
   "mimetype": "text/x-python",
   "name": "python",
   "nbconvert_exporter": "python",
   "pygments_lexer": "ipython3",
   "version": "3.10.16"
  }
 },
 "nbformat": 4,
 "nbformat_minor": 5
}
