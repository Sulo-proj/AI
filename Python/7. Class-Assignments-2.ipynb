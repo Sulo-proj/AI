{
 "cells": [
  {
   "cell_type": "code",
   "execution_count": 2,
   "id": "4eb4061d",
   "metadata": {},
   "outputs": [
    {
     "name": "stdout",
     "output_type": "stream",
     "text": [
      "Sub-fields in AI are:\n",
      "Machine Learning\n",
      "Neural Networks\n",
      "Vision\n",
      "Robotics\n",
      "Speech Processing\n",
      "Natural Language Processing\n"
     ]
    }
   ],
   "source": [
    "from multipleFunctions import multipleFunctions as mulFunc\n",
    "\n",
    "mulFunc.Subfields()\n"
   ]
  },
  {
   "cell_type": "code",
   "execution_count": 3,
   "id": "ada59c28",
   "metadata": {},
   "outputs": [
    {
     "name": "stdout",
     "output_type": "stream",
     "text": [
      "Enter a number: 45\n",
      "45 is Odd number\n"
     ]
    }
   ],
   "source": [
    "mulFunc.OddEven()               \n"
   ]
  },
  {
   "cell_type": "code",
   "execution_count": 4,
   "id": "ac5129a5",
   "metadata": {},
   "outputs": [
    {
     "name": "stdout",
     "output_type": "stream",
     "text": [
      "Your Gender - (Male / Female:) Male\n",
      "Your Age: 45\n",
      "ELIGIBLE\n"
     ]
    }
   ],
   "source": [
    "mulFunc.Elegible()\n"
   ]
  },
  {
   "cell_type": "code",
   "execution_count": 5,
   "id": "4f0941ad",
   "metadata": {},
   "outputs": [
    {
     "name": "stdout",
     "output_type": "stream",
     "text": [
      "Subject1= 58\n",
      "Subject2= 75\n",
      "Subject3= 69\n",
      "Subject4= 94\n",
      "Subject5= 85\n",
      "Total =  381\n",
      "Percentage =  76.2\n"
     ]
    }
   ],
   "source": [
    "mulFunc.percentage()\n"
   ]
  },
  {
   "cell_type": "code",
   "execution_count": 6,
   "id": "44a66a29",
   "metadata": {},
   "outputs": [
    {
     "name": "stdout",
     "output_type": "stream",
     "text": [
      "Height for Area Calculation 46\n",
      "Breadth for Area Calculation 57\n",
      "Area of Triangle:  1311.0\n",
      "Height1 for Perimeter Calculation 12\n",
      "Height2 for Perimeter Calculation 68\n",
      "Breadth for Perimeter Calculation 58\n",
      "Perimeter of Triangle:  138\n"
     ]
    }
   ],
   "source": [
    "\n",
    "mulFunc.triangle()\n"
   ]
  }
 ],
 "metadata": {
  "kernelspec": {
   "display_name": "base",
   "language": "python",
   "name": "python3"
  },
  "language_info": {
   "codemirror_mode": {
    "name": "ipython",
    "version": 3
   },
   "file_extension": ".py",
   "mimetype": "text/x-python",
   "name": "python",
   "nbconvert_exporter": "python",
   "pygments_lexer": "ipython3",
   "version": "3.10.16"
  }
 },
 "nbformat": 4,
 "nbformat_minor": 5
}
