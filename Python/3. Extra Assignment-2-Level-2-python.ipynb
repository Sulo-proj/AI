{
 "cells": [
  {
   "cell_type": "code",
   "execution_count": 1,
   "id": "56ac6807",
   "metadata": {},
   "outputs": [
    {
     "name": "stdout",
     "output_type": "stream",
     "text": [
      "0\n",
      "1\n",
      "2\n",
      "3\n",
      "4\n",
      "5\n",
      "6\n",
      "7\n",
      "8\n",
      "9\n",
      "10\n",
      "11\n",
      "12\n",
      "13\n",
      "14\n",
      "15\n",
      "16\n",
      "17\n",
      "18\n",
      "19\n"
     ]
    }
   ],
   "source": [
    "# print 0 to 20 by using range\n",
    "for num in range(0,20):\n",
    "    print (num)\n"
   ]
  },
  {
   "cell_type": "code",
   "execution_count": 9,
   "id": "bcae9846",
   "metadata": {},
   "outputs": [
    {
     "name": "stdout",
     "output_type": "stream",
     "text": [
      " 10 11 12 13 14 15 16 17 18 19\n"
     ]
    }
   ],
   "source": [
    "# print range 10 to 20\n",
    "\n",
    "numbers = ''\n",
    "for num in range(10,20):\n",
    "    numbers = numbers + ' ' + str(num)\n",
    "print( numbers )\n"
   ]
  },
  {
   "cell_type": "code",
   "execution_count": null,
   "id": "35b2c8f3",
   "metadata": {},
   "outputs": [
    {
     "name": "stdout",
     "output_type": "stream",
     "text": [
      "[10, 20, 14, 55, 43, 87, 76]\n",
      "Number of item in the List2:\n",
      "7\n"
     ]
    }
   ],
   "source": [
    "# Print number of items in the list by using 'len'\n",
    "Lists = [10, 20, 14, 55, 43, 87, 76]\n",
    "print(Lists)\n",
    "print('Number of item in the List2:')\n",
    "print(len(Lists))\n"
   ]
  },
  {
   "cell_type": "code",
   "execution_count": null,
   "id": "392e30ab",
   "metadata": {},
   "outputs": [
    {
     "name": "stdout",
     "output_type": "stream",
     "text": [
      "Artificial Intelligence\n",
      "A\n",
      "r\n",
      "t\n",
      "i\n",
      "f\n",
      "i\n",
      "c\n",
      "i\n",
      "a\n",
      "l\n",
      " \n",
      "I\n",
      "n\n",
      "t\n",
      "e\n",
      "l\n",
      "l\n",
      "i\n",
      "g\n",
      "e\n",
      "n\n",
      "c\n",
      "e\n"
     ]
    }
   ],
   "source": [
    "String = 'Artificial Intelligence'\n",
    "print(String)\n",
    "for Chars in String:\n",
    "    print(Chars)\n"
   ]
  },
  {
   "cell_type": "code",
   "execution_count": 14,
   "id": "b1a6e49b",
   "metadata": {},
   "outputs": [
    {
     "name": "stdout",
     "output_type": "stream",
     "text": [
      "-Your Name-\n",
      "-Your Age-\n",
      "-Your Profession-\n"
     ]
    }
   ],
   "source": [
    "print('-Your Name-')\n",
    "print('-Your Age-')\n",
    "print('-Your Profession-')\n"
   ]
  },
  {
   "cell_type": "code",
   "execution_count": null,
   "id": "b16d4b69",
   "metadata": {},
   "outputs": [
    {
     "name": "stdout",
     "output_type": "stream",
     "text": [
      "(1, 'Welcome', 2, 'Hope')\n"
     ]
    }
   ],
   "source": [
    "# Print yhis mixered datatype using Tuples\n",
    "Tup = (1, 'Welcome', 2, 'Hope')\n",
    "\n",
    "print(Tup)\n"
   ]
  },
  {
   "cell_type": "code",
   "execution_count": 16,
   "id": "36ce2a9e",
   "metadata": {},
   "outputs": [
    {
     "name": "stdout",
     "output_type": "stream",
     "text": [
      "((0, 1, 2, 3), ('python', 'HOPE'))\n"
     ]
    }
   ],
   "source": [
    "Tuple1 = (0, 1, 2, 3)\n",
    "Tuple2 = ('python', 'HOPE')\n",
    "Tuple3 = (Tuple1, Tuple2)\n",
    "print(Tuple3)\n",
    "\n"
   ]
  },
  {
   "cell_type": "code",
   "execution_count": 20,
   "id": "1ad54c4f",
   "metadata": {},
   "outputs": [
    {
     "name": "stdout",
     "output_type": "stream",
     "text": [
      "20 is even\n",
      "10 is even\n",
      "16 is even\n",
      "19 is odd\n",
      "25 is odd\n",
      "1 is odd\n",
      "276 is even\n",
      "188 is even\n"
     ]
    }
   ],
   "source": [
    "# print Odd Numbers in the list\n",
    "\n",
    "List = (20,10,16,19,25,1,276,188)\n",
    "for num in List:\n",
    "    if (num %2 == 0):\n",
    "        print(num, 'is even')\n",
    "    else:\n",
    "        print(num, 'is odd')\n"
   ]
  },
  {
   "cell_type": "code",
   "execution_count": 21,
   "id": "b8ced3bb",
   "metadata": {},
   "outputs": [
    {
     "name": "stdout",
     "output_type": "stream",
     "text": [
      "20 is even\n",
      "10 is even\n",
      "16 is even\n",
      "276 is even\n",
      "188 is even\n"
     ]
    }
   ],
   "source": [
    "# print Even numbers in the list\n",
    "\n",
    "List = (20,10,16,19,25,1,276,188)\n",
    "for num in List:\n",
    "    if (num %2 == 0):\n",
    "        print(num, 'is even')\n",
    "\n"
   ]
  }
 ],
 "metadata": {
  "kernelspec": {
   "display_name": "base",
   "language": "python",
   "name": "python3"
  },
  "language_info": {
   "codemirror_mode": {
    "name": "ipython",
    "version": 3
   },
   "file_extension": ".py",
   "mimetype": "text/x-python",
   "name": "python",
   "nbconvert_exporter": "python",
   "pygments_lexer": "ipython3",
   "version": "3.10.16"
  }
 },
 "nbformat": 4,
 "nbformat_minor": 5
}
