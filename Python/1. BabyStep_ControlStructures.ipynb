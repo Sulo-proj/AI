{
 "cells": [
  {
   "cell_type": "code",
   "execution_count": 1,
   "id": "6eee7db5-76fb-452f-a574-07acc3bb2a75",
   "metadata": {},
   "outputs": [
    {
     "name": "stdout",
     "output_type": "stream",
     "text": [
      "Welcome to Assignment-1\n"
     ]
    }
   ],
   "source": [
    "print(\"Welcome to Assignment-1\")\n"
   ]
  },
  {
   "cell_type": "code",
   "execution_count": 2,
   "id": "db7325cd-2b2a-47a6-b706-fd4df76ce301",
   "metadata": {},
   "outputs": [
    {
     "name": "stdout",
     "output_type": "stream",
     "text": [
      "Num1= 10\n",
      "Num2= 30\n",
      "Add= 40\n"
     ]
    }
   ],
   "source": [
    "Num1=10\n",
    "Num2=30\n",
    "Add=Num1+Num2\n",
    "print(\"Num1=\", Num1,)\n",
    "print(\"Num2=\", Num2,) \n",
    "print(\"Add=\",Add)\n"
   ]
  },
  {
   "cell_type": "code",
   "execution_count": null,
   "id": "6dd8ae49",
   "metadata": {},
   "outputs": [
    {
     "name": "stdout",
     "output_type": "stream",
     "text": [
      "Enter the BMI Index: 34\n",
      "Very Overweight\n"
     ]
    }
   ],
   "source": [
    "# Underweight: BMI below 18.5 \n",
    "# Healthy Weight: BMI between 18.5 and 24.9 \n",
    "# Overweight: BMI between 25.0 and 29.9 \n",
    "# Obesity: BMI 30.0 or above \n",
    "bmi=int(input('Enter the BMI Index:'))\n",
    "if (bmi<18.5):\n",
    "    print('Underweight')\n",
    "elif (bmi<24.9):\n",
    "    print('Healthy Weight')\n",
    "elif (bmi<24.9):\n",
    "    print('Overweight')\n",
    "else:\n",
    "    print('Very Overweight')\n"
   ]
  }
 ],
 "metadata": {
  "kernelspec": {
   "display_name": "base",
   "language": "python",
   "name": "python3"
  },
  "language_info": {
   "codemirror_mode": {
    "name": "ipython",
    "version": 3
   },
   "file_extension": ".py",
   "mimetype": "text/x-python",
   "name": "python",
   "nbconvert_exporter": "python",
   "pygments_lexer": "ipython3",
   "version": "3.10.16"
  }
 },
 "nbformat": 4,
 "nbformat_minor": 5
}
