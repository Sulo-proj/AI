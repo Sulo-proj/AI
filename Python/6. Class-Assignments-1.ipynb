{
 "cells": [
  {
   "cell_type": "code",
   "execution_count": 2,
   "id": "98e09614",
   "metadata": {},
   "outputs": [],
   "source": [
    "class SubfieldsInAI:\n",
    "    def Subfields():\n",
    "        list1 = ['Machine Learning','Neural Networks','Vision', 'Robotics','Speech Processing','Natural Language Processing']\n",
    "        print('Sub-fields in AI are:')\n",
    "        for temp in list1:\n",
    "            print(temp)\n",
    "        return\n"
   ]
  },
  {
   "cell_type": "code",
   "execution_count": 3,
   "id": "73d946f2",
   "metadata": {},
   "outputs": [
    {
     "name": "stdout",
     "output_type": "stream",
     "text": [
      "Sub-fields in AI are:\n",
      "Machine Learning\n",
      "Neural Networks\n",
      "Vision\n",
      "Robotics\n",
      "Speech Processing\n",
      "Natural Language Processing\n"
     ]
    }
   ],
   "source": [
    "SubfieldsInAI.Subfields()\n"
   ]
  },
  {
   "cell_type": "code",
   "execution_count": 4,
   "id": "9e5b6fa5",
   "metadata": {},
   "outputs": [],
   "source": [
    "class OddEven:\n",
    "    def OddEven():\n",
    "        num = int(input('Enter a number:'))\n",
    "        print('Enter a number:', num)\n",
    "        if num%2 == 0:\n",
    "            msg = 'Even'\n",
    "        else:\n",
    "            msg = 'Odd'\n",
    "\n",
    "        print(num, 'is', msg, 'number')\n",
    "        return  \n"
   ]
  },
  {
   "cell_type": "code",
   "execution_count": 5,
   "id": "3baec260",
   "metadata": {},
   "outputs": [
    {
     "name": "stdout",
     "output_type": "stream",
     "text": [
      "Enter a number: 453\n",
      "453 is Odd number\n"
     ]
    }
   ],
   "source": [
    "OddEven.OddEven()\n"
   ]
  },
  {
   "cell_type": "code",
   "execution_count": 6,
   "id": "ad42e820",
   "metadata": {},
   "outputs": [],
   "source": [
    "class ElegiblityForMarriage:\n",
    "    def Elegible():\n",
    "        gender = input('Your Gender - (Male / Female:)')\n",
    "        print('Your Gender - (Male / Female:)', gender)\n",
    "        age = int(input('Your Age:'))\n",
    "        print('Your Age:', age)\n",
    "\n",
    "        if gender == 'Male':\n",
    "            if age>=21:\n",
    "                print('ELIGIBLE')\n",
    "            else:\n",
    "                print('NOT Eligible')\n",
    "        elif gender == 'Female':\n",
    "            if age>=18:\n",
    "                print('ELIGIBLE')\n",
    "            else:\n",
    "                print('NOT Eligible')\n",
    "        else:\n",
    "            print('Invalid Input')\n",
    "        return\n"
   ]
  },
  {
   "cell_type": "code",
   "execution_count": 8,
   "id": "d55185ef",
   "metadata": {},
   "outputs": [
    {
     "name": "stdout",
     "output_type": "stream",
     "text": [
      "Your Gender - (Male / Female:) Female\n",
      "Your Age: 17\n",
      "NOT Eligible\n"
     ]
    }
   ],
   "source": [
    "ElegiblityForMarriage.Elegible()\n"
   ]
  },
  {
   "cell_type": "code",
   "execution_count": 9,
   "id": "5b3250ba",
   "metadata": {},
   "outputs": [],
   "source": [
    "class FindPercent:\n",
    "    def percentage():\n",
    "\n",
    "        m1 = int(input('Subject1 ='))\n",
    "        print('Subject1=',m1)\n",
    "        m2 = int(input('Subject2 ='))\n",
    "        print('Subject2=',m2)\n",
    "        m3 = int(input('Subject3 ='))\n",
    "        print('Subject3=',m3)\n",
    "        m4 = int(input('Subject4 ='))\n",
    "        print('Subject4=',m4)\n",
    "        m5 = int(input('Subject5 ='))\n",
    "        print('Subject5=',m5)\n",
    "        total = m1+m2+m3+m4+m5\n",
    "        print('Total = ',total)\n",
    "        perc = total/500 * 100\n",
    "        print('Percentage = ',perc)\n",
    "        return\n"
   ]
  },
  {
   "cell_type": "code",
   "execution_count": 10,
   "id": "bdb301e6",
   "metadata": {},
   "outputs": [
    {
     "name": "stdout",
     "output_type": "stream",
     "text": [
      "Subject1= 75\n",
      "Subject2= 85\n",
      "Subject3= 56\n",
      "Subject4= 59\n",
      "Subject5= 89\n",
      "Total =  364\n",
      "Percentage =  72.8\n"
     ]
    }
   ],
   "source": [
    "FindPercent.percentage()\n"
   ]
  },
  {
   "cell_type": "code",
   "execution_count": 11,
   "id": "949cb98c",
   "metadata": {},
   "outputs": [],
   "source": [
    "class triangle:\n",
    "    def triangle():\n",
    "        height = int(input('Height for Area Calculation'))\n",
    "        print('Height for Area Calculation', height)\n",
    "        breadth = int(input('Breadth for Area Calculation'))\n",
    "        print('Breadth for Area Calculation', breadth)\n",
    "\n",
    "        Area = (height * breadth)/2\n",
    "        print('Area of Triangle: ', Area)\n",
    "\n",
    "        height1 = int(input('Height for Perimeter Calculation'))\n",
    "        print('Height1 for Perimeter Calculation', height1)\n",
    "        height2 = int(input('Height2 for Perimeter Calculation'))\n",
    "        print('Height2 for Perimeter Calculation', height2)\n",
    "        breadth = int(input('Breadth for Perimeter Calculation'))\n",
    "        print('Breadth for Perimeter Calculation', breadth)\n",
    "\n",
    "        Perimeter = height1 + height2 + breadth\n",
    "        print('Perimeter of Triangle: ' , Perimeter)\n",
    "        return\n"
   ]
  },
  {
   "cell_type": "code",
   "execution_count": 12,
   "id": "3b8bada5",
   "metadata": {},
   "outputs": [
    {
     "name": "stdout",
     "output_type": "stream",
     "text": [
      "Height for Area Calculation 75\n",
      "Breadth for Area Calculation 78\n",
      "Area of Triangle:  2925.0\n",
      "Height1 for Perimeter Calculation 26\n",
      "Height2 for Perimeter Calculation 25\n",
      "Breadth for Perimeter Calculation 78\n",
      "Perimeter of Triangle:  129\n"
     ]
    }
   ],
   "source": [
    "triangle.triangle()\n"
   ]
  }
 ],
 "metadata": {
  "kernelspec": {
   "display_name": "base",
   "language": "python",
   "name": "python3"
  },
  "language_info": {
   "codemirror_mode": {
    "name": "ipython",
    "version": 3
   },
   "file_extension": ".py",
   "mimetype": "text/x-python",
   "name": "python",
   "nbconvert_exporter": "python",
   "pygments_lexer": "ipython3",
   "version": "3.10.16"
  }
 },
 "nbformat": 4,
 "nbformat_minor": 5
}
