{
 "cells": [
  {
   "cell_type": "code",
   "execution_count": null,
   "id": "71527e9f",
   "metadata": {},
   "outputs": [
    {
     "name": "stdout",
     "output_type": "stream",
     "text": [
      "HOPE AI\n"
     ]
    }
   ],
   "source": [
    "# Print Statement\n",
    "print('HOPE AI')\n"
   ]
  },
  {
   "cell_type": "code",
   "execution_count": null,
   "id": "373f2d39",
   "metadata": {},
   "outputs": [
    {
     "name": "stdout",
     "output_type": "stream",
     "text": [
      "Enter your institute name? : HOPE AI\n"
     ]
    }
   ],
   "source": [
    "# Get Input\n",
    "input('Enter your institute name? :')\n"
   ]
  },
  {
   "cell_type": "code",
   "execution_count": null,
   "id": "0cd0739e",
   "metadata": {},
   "outputs": [
    {
     "name": "stdout",
     "output_type": "stream",
     "text": [
      "Enter your name: Raj\n",
      "Enter your age: 15\n",
      "Enter your school name: Guru School\n",
      "Enter your drgree: B.E CSE\n"
     ]
    }
   ],
   "source": [
    "# Get Inputs\n",
    "input('Enter your name:')\n",
    "input('Enter your age:')\n",
    "input('Enter your school name:')\n",
    "input('Enter your drgree:')\n"
   ]
  },
  {
   "cell_type": "code",
   "execution_count": null,
   "id": "e7ac7874",
   "metadata": {},
   "outputs": [
    {
     "name": "stdout",
     "output_type": "stream",
     "text": [
      "a= 43\n",
      "b= 34\n",
      "add= 77\n"
     ]
    }
   ],
   "source": [
    "# Addition\n",
    "a= 43\n",
    "b= 34\n",
    "add = a + b\n",
    "\n",
    "print('a=', a)\n",
    "print('b=', b)\n",
    "print('add=', add)\n"
   ]
  },
  {
   "cell_type": "code",
   "execution_count": null,
   "id": "1ac85f96",
   "metadata": {},
   "outputs": [
    {
     "name": "stdout",
     "output_type": "stream",
     "text": [
      "a= 43\n",
      "b= 34\n",
      "Sub= 9\n"
     ]
    }
   ],
   "source": [
    "# Subtraction\n",
    "a= 43\n",
    "b= 34\n",
    "Sub = a-b\n",
    "print('a=', a)\n",
    "print('b=', b)\n",
    "print('Sub=', Sub)\n"
   ]
  },
  {
   "cell_type": "code",
   "execution_count": 7,
   "id": "e23feaaf",
   "metadata": {},
   "outputs": [
    {
     "name": "stdout",
     "output_type": "stream",
     "text": [
      "a= 63\n",
      "b= 97\n",
      "Mul= 6111\n"
     ]
    }
   ],
   "source": [
    "# Multiplication\n",
    "a= 63\n",
    "b= 97\n",
    "Mul = a*b\n",
    "print('a=', a)\n",
    "print('b=', b)\n",
    "print('Mul=', Mul)\n"
   ]
  },
  {
   "cell_type": "code",
   "execution_count": null,
   "id": "398fd435",
   "metadata": {},
   "outputs": [
    {
     "name": "stdout",
     "output_type": "stream",
     "text": [
      "a= 76\n",
      "b= 31\n",
      "Float Div= 2.4516129032258065\n"
     ]
    }
   ],
   "source": [
    "# Division\n",
    "a= 76\n",
    "b= 31\n",
    "Div = a/b\n",
    "print('a=', a)\n",
    "print('b=', b)\n",
    "print('Float Div=', Div)\n"
   ]
  },
  {
   "cell_type": "code",
   "execution_count": null,
   "id": "480747e0",
   "metadata": {},
   "outputs": [
    {
     "name": "stdout",
     "output_type": "stream",
     "text": [
      "a= 76\n",
      "b= 31\n",
      "Floor Div= 2\n"
     ]
    }
   ],
   "source": [
    "# Floor division\n",
    "\n",
    "a= 76\n",
    "b= 31\n",
    "Div = a//b\n",
    "print('a=', a)\n",
    "print('b=', b)\n",
    "print('Floor Div=', Div)\n"
   ]
  },
  {
   "cell_type": "code",
   "execution_count": null,
   "id": "e97f1ae1",
   "metadata": {},
   "outputs": [
    {
     "name": "stdout",
     "output_type": "stream",
     "text": [
      "a= 76\n",
      "b= 31\n",
      "Modulo= 14\n"
     ]
    }
   ],
   "source": [
    "# Modulo\n",
    "\n",
    "a= 76\n",
    "b= 31\n",
    "Modulo = a%b\n",
    "print('a=', a)\n",
    "print('b=', b)\n",
    "print('Modulo=', Modulo)\n"
   ]
  },
  {
   "cell_type": "code",
   "execution_count": null,
   "id": "0bf2af33",
   "metadata": {},
   "outputs": [
    {
     "name": "stdout",
     "output_type": "stream",
     "text": [
      "a= 4\n",
      "b= 4\n",
      "Power= 256\n"
     ]
    }
   ],
   "source": [
    "# Power\n",
    "a= 4\n",
    "b= 4\n",
    "Power = a**b\n",
    "print('a=', a)\n",
    "print('b=', b)\n",
    "print('Power=', Power)\n"
   ]
  }
 ],
 "metadata": {
  "kernelspec": {
   "display_name": "base",
   "language": "python",
   "name": "python3"
  },
  "language_info": {
   "codemirror_mode": {
    "name": "ipython",
    "version": 3
   },
   "file_extension": ".py",
   "mimetype": "text/x-python",
   "name": "python",
   "nbconvert_exporter": "python",
   "pygments_lexer": "ipython3",
   "version": "3.10.16"
  }
 },
 "nbformat": 4,
 "nbformat_minor": 5
}
